{
 "cells": [
  {
   "cell_type": "code",
   "execution_count": null,
   "metadata": {},
   "outputs": [],
   "source": [
    "# Copyright (c) Microsoft Corporation. All rights reserved.\n",
    "# Licensed under the MIT License."
   ]
  },
  {
   "cell_type": "markdown",
   "metadata": {},
   "source": [
    "Install Dependencies"
   ]
  },
  {
   "cell_type": "code",
   "execution_count": null,
   "metadata": {},
   "outputs": [],
   "source": [
    "pip install matplotlib==3.5.2 numpy==1.19.5 scipy"
   ]
  },
  {
   "cell_type": "markdown",
   "metadata": {},
   "source": [
    "Import Libraries"
   ]
  },
  {
   "cell_type": "code",
   "execution_count": null,
   "metadata": {},
   "outputs": [],
   "source": [
    "import scipy.io\n",
    "import matplotlib.pyplot as plt\n",
    "import numpy as np\n",
    "import random"
   ]
  },
  {
   "cell_type": "markdown",
   "metadata": {},
   "source": [
    "### Load & Explore Data"
   ]
  },
  {
   "cell_type": "markdown",
   "metadata": {},
   "source": [
    "# Download and save the 'exercise_data.50.0000_singleonly.mat' file from the below link and save it locally in the same folder as this notebook file. \n",
    "\n",
    "https://msropendata.com/datasets/799c1167-2c8f-44c4-929c-227bf04e2b9a"
   ]
  },
  {
   "cell_type": "code",
   "execution_count": null,
   "metadata": {},
   "outputs": [],
   "source": [
    "# Load exercise dataset \n",
    "exercise_dataset = scipy.io.loadmat('exercise_data.50.0000_singleonly.mat', struct_as_record=False)\n",
    "\n",
    "# Load activities and data full objects\n",
    "exercise_constants = exercise_dataset['exerciseConstants'][0][0].activities\n",
    "subject_data = exercise_dataset['subject_data']\n",
    "\n",
    "# extract activities names into an array\n",
    "all_activities = []\n",
    "for act in exercise_constants[0]:\n",
    "    all_activities.append(act[0])\n",
    "    print (act[0]) # print values for reference\n",
    "\n",
    "# only take data from 3 random exercises\n",
    "activities_to_process = random.choices(all_activities, k=3)\n",
    "\n",
    "# define dictionaries for accelerometer and gyroscope data\n",
    "activities_accelerometer_data_dict = { activities_to_process[0]: [], activities_to_process[1]: [], activities_to_process[2]: []}\n",
    "activities_gyroscope_data_dict = { activities_to_process[0]: [], activities_to_process[1]: [], activities_to_process[2]: []}\n",
    "\n",
    "# iterate over subject data to search for those activities and save the data related\n",
    "for data_item in subject_data:\n",
    "    for x in data_item:\n",
    "        if len(x) > 0:\n",
    "            if x[0] is not None and len(x[0]) > 0:\n",
    "                data_activity_name = x[0,0].activityName[0]\n",
    "                data_item_accelDataMatrix = x[0,0].data[0,0].accelDataMatrix\n",
    "                data_item_gyroDataMatrix = x[0,0].data[0,0].gyroDataMatrix\n",
    "                if data_activity_name in activities_to_process:\n",
    "                    activities_accelerometer_data_dict[data_activity_name].append(data_item_accelDataMatrix)\n",
    "                    activities_gyroscope_data_dict[data_activity_name].append(data_item_gyroDataMatrix)"
   ]
  },
  {
   "cell_type": "markdown",
   "metadata": {},
   "source": [
    "### Accelerometer Measurements chart (only the first result of exercises per activity has been taken)"
   ]
  },
  {
   "cell_type": "code",
   "execution_count": null,
   "metadata": {},
   "outputs": [],
   "source": [
    "# Data to graph\n",
    "for activity in activities_to_process:\n",
    "       t, x, y, z = [], [], [], []\n",
    "\n",
    "       for data_activity in activities_accelerometer_data_dict[activity][0]: # take only the values corresponding to the results of the first excersise\n",
    "              t.append(data_activity[0]) # time value\n",
    "              x.append(data_activity[1]) # X value\n",
    "              y.append(data_activity[2]) # Y value\n",
    "              z.append(data_activity[3]) # Z value\n",
    "\n",
    "       fig, ax = plt.subplots()\n",
    "       ax.plot(t, x, label = 'X')\n",
    "       ax.plot(t, y, label = 'Y')\n",
    "       ax.plot(t, z, label = 'Z')\n",
    "\n",
    "       ax.set(xlabel='Time (seconds)', ylabel='Acceleration output (g)', title=activity)\n",
    "       ax.grid()\n",
    "\n",
    "       fig.tight_layout()\n",
    "       fig.set_size_inches(25, 5)\n",
    "\n",
    "       plt.legend()\n",
    "       plt.show()"
   ]
  },
  {
   "cell_type": "markdown",
   "metadata": {},
   "source": [
    "### Gyroscope Measurements chart (only the first result of exercises per activity has been taken)"
   ]
  },
  {
   "cell_type": "code",
   "execution_count": null,
   "metadata": {},
   "outputs": [],
   "source": [
    "# Data to graph\n",
    "for activity in activities_to_process:\n",
    "       t, x, y, z = [], [], [], []\n",
    "\n",
    "       for data_activity in activities_gyroscope_data_dict[activity][0]: # take only the values corresponding to the results of the first excersise\n",
    "              t.append(data_activity[0]) # time value\n",
    "              x.append(data_activity[1]) # X value\n",
    "              y.append(data_activity[2]) # Y value\n",
    "              z.append(data_activity[3]) # Z value\n",
    "\n",
    "       fig, ax = plt.subplots()\n",
    "       ax.plot(t, x, label = 'X')\n",
    "       ax.plot(t, y, label = 'Y')\n",
    "       ax.plot(t, z, label = 'Z')\n",
    "\n",
    "       ax.set(xlabel='Time (seconds)', ylabel='Gyroscope output (g)', title=activity)\n",
    "       ax.grid()\n",
    "\n",
    "       fig.tight_layout()\n",
    "       fig.set_size_inches(25, 5)\n",
    "\n",
    "       plt.legend()\n",
    "       plt.show()"
   ]
  }
 ],
 "metadata": {
  "interpreter": {
   "hash": "0a54084e6b208ee8d1ce3989ffc20924477a5f55f5a43e22e699a6741623861e"
  },
  "kernelspec": {
   "display_name": "Python 3.7.8 64-bit",
   "language": "python",
   "name": "python3"
  },
  "language_info": {
   "codemirror_mode": {
    "name": "ipython",
    "version": 3
   },
   "file_extension": ".py",
   "mimetype": "text/x-python",
   "name": "python",
   "nbconvert_exporter": "python",
   "pygments_lexer": "ipython3",
   "version": "3.7.8"
  },
  "orig_nbformat": 4
 },
 "nbformat": 4,
 "nbformat_minor": 2
}
