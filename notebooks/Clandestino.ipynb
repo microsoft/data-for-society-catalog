{
 "cells": [
  {
   "cell_type": "code",
   "execution_count": 1,
   "id": "af67a9e0-5f32-4810-85a9-e88f63eb6a4a",
   "metadata": {},
   "outputs": [],
   "source": [
    "# Copyright (c) Microsoft Corporation. All rights reserved.\n",
    "# Licensed under the MIT License."
   ]
  },
  {
   "cell_type": "code",
   "execution_count": null,
   "id": "10334e53-fb84-4ba4-b768-95e73a58347c",
   "metadata": {},
   "outputs": [],
   "source": [
    "import pandas as pd"
   ]
  },
  {
   "cell_type": "code",
   "execution_count": 5,
   "id": "12f066b6-674c-4857-9116-ba30ef3f6805",
   "metadata": {},
   "outputs": [],
   "source": [
    "dataset_path = './Clandestino/data/clandestino_no_ontology_42023.json'"
   ]
  },
  {
   "cell_type": "code",
   "execution_count": 9,
   "id": "d4729936-e929-46ff-8f19-a720c438404c",
   "metadata": {},
   "outputs": [],
   "source": [
    "df = pd.read_json(dataset_path, lines=True)\n",
    "df = df.head(50)"
   ]
  }
 ],
 "metadata": {
  "kernelspec": {
   "display_name": "Python 3 (ipykernel)",
   "language": "python",
   "name": "python3"
  },
  "language_info": {
   "codemirror_mode": {
    "name": "ipython",
    "version": 3
   },
   "file_extension": ".py",
   "mimetype": "text/x-python",
   "name": "python",
   "nbconvert_exporter": "python",
   "pygments_lexer": "ipython3",
   "version": "3.8.12"
  }
 },
 "nbformat": 4,
 "nbformat_minor": 5
}
